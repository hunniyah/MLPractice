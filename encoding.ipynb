{
 "cells": [
  {
   "cell_type": "markdown",
   "metadata": {},
   "source": [
    "one hot encoding:\n",
    "suppose there isa feature of color in a data set now there are only a limited value of colors so each color can be converted into a category/column and and for each entry/row it is given a binary 0 or 1 value "
   ]
  },
  {
   "cell_type": "code",
   "execution_count": 7,
   "metadata": {},
   "outputs": [
    {
     "name": "stdout",
     "output_type": "stream",
     "text": [
      "    color\n",
      "0     Red\n",
      "1   Green\n",
      "2    Blue\n",
      "3  Golden\n",
      "   is_Blue  is_Golden  is_Green  is_Red\n",
      "0    False      False     False    True\n",
      "1    False      False      True   False\n",
      "2     True      False     False   False\n",
      "3    False       True     False   False\n"
     ]
    }
   ],
   "source": [
    "import pandas as pd\n",
    "\n",
    "#sample data\n",
    "data={'color':['Red','Green','Blue','Golden']}\n",
    "df=pd.DataFrame(data)\n",
    "print(df)\n",
    "\n",
    "#automatically converts each uniwue category into a column\n",
    "df_encoded = pd.get_dummies(df, columns=['color'], prefix='is')\n",
    "\n",
    "print(df_encoded)\n"
   ]
  },
  {
   "cell_type": "markdown",
   "metadata": {},
   "source": [
    "Label encoding: it is more commanly used with data which are ordinal in nature i.e have some sort of order "
   ]
  },
  {
   "cell_type": "code",
   "execution_count": 14,
   "metadata": {},
   "outputs": [
    {
     "name": "stdout",
     "output_type": "stream",
     "text": [
      "     Size  Size_encoded\n",
      "0   Small             2\n",
      "1  Medium             1\n",
      "2   Large             0\n",
      "3   Small             2\n",
      "4   Large             0\n",
      "5  Medium             1\n"
     ]
    }
   ],
   "source": [
    "import pandas as pd\n",
    "from sklearn.preprocessing import LabelEncoder\n",
    "\n",
    "# Sample data with ordinal categories\n",
    "data = {'Size': ['Small', 'Medium', 'Large', 'Small', 'Large', 'Medium']}\n",
    "df = pd.DataFrame(data)\n",
    "\n",
    "# Create a LabelEncoder instance\n",
    "label_encoder = LabelEncoder()\n",
    "\n",
    "# Fit and transform the Size column\n",
    "df['Size_encoded'] = label_encoder.fit_transform(df['Size'])\n",
    "\n",
    "# Display the result\n",
    "print(df)\n"
   ]
  },
  {
   "cell_type": "markdown",
   "metadata": {},
   "source": [
    "Frequency Encoding: each category is assigned/replaced by its frequency"
   ]
  },
  {
   "cell_type": "code",
   "execution_count": 15,
   "metadata": {},
   "outputs": [
    {
     "name": "stdout",
     "output_type": "stream",
     "text": [
      "          City  City_encoded\n",
      "0     New York             2\n",
      "1  Los Angeles             2\n",
      "2     New York             2\n",
      "3      Chicago             3\n",
      "4  Los Angeles             2\n",
      "5      Chicago             3\n",
      "6      Chicago             3\n"
     ]
    }
   ],
   "source": [
    "import pandas as pd\n",
    "\n",
    "\n",
    "data = {\n",
    "    'City': ['New York', 'Los Angeles', 'New York', 'Chicago', 'Los Angeles', 'Chicago', 'Chicago']\n",
    "}\n",
    "df = pd.DataFrame(data)\n",
    "\n",
    "# Calculate frequency of each category\n",
    "frequency = df['City'].value_counts()\n",
    "\n",
    "# Map the frequencies to the original column\n",
    "df['City_encoded'] = df['City'].map(frequency)\n",
    "\n",
    "# Display the result\n",
    "print(df)\n"
   ]
  },
  {
   "cell_type": "markdown",
   "metadata": {},
   "source": [
    "Target encoding: for each category it is replaced with the mean of the target variable\n",
    "target variable:the variable whose value depends on the other variables, ig the variable for which predictions are to be made\n",
    "\n",
    "we shall consider our data set of cities and their corresponding sale, our target var is sales since we shall be prediction sales\n",
    "first take mean of sale for each seperate category\n",
    "For \"New York\": (200 + 300) / 2 = 250\n",
    "For \"Los Angeles\": (150 + 175) / 2 = 162.5\n",
    "For \"Chicago\": (250 + 225 + 275) / 3 = 250\n",
    "\n",
    "then each city is replaced with the mean value"
   ]
  },
  {
   "cell_type": "code",
   "execution_count": 16,
   "metadata": {},
   "outputs": [
    {
     "name": "stdout",
     "output_type": "stream",
     "text": [
      "          City  Sales  City_encoded\n",
      "0     New York    200         250.0\n",
      "1  Los Angeles    150         162.5\n",
      "2     New York    300         250.0\n",
      "3      Chicago    250         250.0\n",
      "4  Los Angeles    175         162.5\n",
      "5      Chicago    225         250.0\n",
      "6      Chicago    275         250.0\n"
     ]
    }
   ],
   "source": [
    "import pandas as pd\n",
    "\n",
    "# Sample data\n",
    "data = {\n",
    "    'City': ['New York', 'Los Angeles', 'New York', 'Chicago', 'Los Angeles', 'Chicago', 'Chicago'],\n",
    "    'Sales': [200, 150, 300, 250, 175, 225, 275]\n",
    "}\n",
    "df = pd.DataFrame(data)\n",
    "\n",
    "# Calculate mean sales for each city\n",
    "mean_sales = df.groupby('City')['Sales'].mean()\n",
    "\n",
    "# Map the mean sales to the City column\n",
    "df['City_encoded'] = df['City'].map(mean_sales)\n",
    "\n",
    "# Display the result\n",
    "print(df)\n"
   ]
  }
 ],
 "metadata": {
  "kernelspec": {
   "display_name": "Python 3",
   "language": "python",
   "name": "python3"
  },
  "language_info": {
   "codemirror_mode": {
    "name": "ipython",
    "version": 3
   },
   "file_extension": ".py",
   "mimetype": "text/x-python",
   "name": "python",
   "nbconvert_exporter": "python",
   "pygments_lexer": "ipython3",
   "version": "3.13.0"
  }
 },
 "nbformat": 4,
 "nbformat_minor": 2
}
